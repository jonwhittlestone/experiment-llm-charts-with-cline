{
 "cells": [
  {
   "cell_type": "markdown",
   "metadata": {},
   "source": [
    "# Creating Charts with Matplotlib and Polars\n",
    "\n",
    "This tutorial demonstrates how to create charts using matplotlib, with data handling powered by polars - a modern, fast DataFrame library for Python.\n",
    "\n",
    "We'll create a simple line chart showing temperature data across different times of day."
   ]
  },
  {
   "cell_type": "markdown",
   "metadata": {},
   "source": [
    "## 1. Setting up our Environment\n",
    "\n",
    "First, let's import the required libraries:"
   ]
  },
  {
   "cell_type": "code",
   "execution_count": null,
   "metadata": {},
   "outputs": [],
   "source": [
    "import polars as pl\n",
    "import matplotlib.pyplot as plt"
   ]
  },
  {
   "cell_type": "markdown",
   "metadata": {},
   "source": [
    "## 2. Creating Sample Data with Polars\n",
    "\n",
    "Let's create a simple DataFrame using polars that contains hourly temperature readings:"
   ]
  },
  {
   "cell_type": "code",
   "execution_count": null,
   "metadata": {},
   "outputs": [],
   "source": [
    "# Create sample data\n",
    "data = {\n",
    "    'hour': list(range(6, 19)),  # 6 AM to 6 PM\n",
    "    'temperature': [15, 16, 18, 20, 22, 24, 25, 26, 25, 23, 21, 19, 17]  # Temperature in Celsius\n",
    "}\n",
    "\n",
    "# Create a polars DataFrame\n",
    "df = pl.DataFrame(data)\n",
    "\n",
    "# Display the DataFrame\n",
    "print(\"Our temperature data:\")\n",
    "df"
   ]
  },
  {
   "cell_type": "markdown",
   "metadata": {},
   "source": [
    "## 3. Basic Data Analysis with Polars\n",
    "\n",
    "Before plotting, let's do some quick analysis using polars' capabilities:"
   ]
  },
  {
   "cell_type": "code",
   "execution_count": null,
   "metadata": {},
   "outputs": [],
   "source": [
    "# Calculate some basic statistics\n",
    "stats = df.select([\n",
    "    pl.col('temperature').mean().alias('avg_temp'),\n",
    "    pl.col('temperature').max().alias('max_temp'),\n",
    "    pl.col('temperature').min().alias('min_temp')\n",
    "])\n",
    "\n",
    "print(\"Temperature Statistics:\")\n",
    "stats"
   ]
  },
  {
   "cell_type": "markdown",
   "metadata": {},
   "source": [
    "## 4. Creating a Line Chart with Matplotlib\n",
    "\n",
    "Now that we have our data prepared in polars, let's create a line chart using matplotlib:"
   ]
  },
  {
   "cell_type": "code",
   "execution_count": null,
   "metadata": {},
   "outputs": [],
   "source": [
    "# Set the figure size\n",
    "plt.figure(figsize=(10, 6))\n",
    "\n",
    "# Create the line plot\n",
    "plt.plot(df['hour'], df['temperature'], marker='o', linestyle='-', linewidth=2, markersize=8)\n",
    "\n",
    "# Customize the plot\n",
    "plt.title('Temperature Throughout the Day', fontsize=14, pad=15)\n",
    "plt.xlabel('Hour of Day', fontsize=12)\n",
    "plt.ylabel('Temperature (°C)', fontsize=12)\n",
    "plt.grid(True, linestyle='--', alpha=0.7)\n",
    "\n",
    "# Add labels at each point\n",
    "for hour, temp in zip(df['hour'], df['temperature']):\n",
    "    plt.annotate(f'{temp}°C', (hour, temp), textcoords=\"offset points\", xytext=(0,10), ha='center')\n",
    "\n",
    "# Show the plot\n",
    "plt.tight_layout()\n",
    "plt.show()"
   ]
  },
  {
   "cell_type": "markdown",
   "metadata": {},
   "source": [
    "## 5. Saving the Plot\n",
    "\n",
    "You can save your plot to a file using matplotlib:"
   ]
  },
  {
   "cell_type": "code",
   "execution_count": null,
   "metadata": {},
   "outputs": [],
   "source": [
    "plt.savefig('temperature_plot.png', dpi=300, bbox_inches='tight')\n",
    "print(\"Plot saved as 'temperature_plot.png'\")"
   ]
  },
  {
   "cell_type": "markdown",
   "metadata": {},
   "source": [
    "## Key Takeaways\n",
    "\n",
    "1. Polars provides a modern, efficient way to handle data in Python\n",
    "2. Matplotlib can easily work with polars DataFrames to create visualizations\n",
    "3. We can customize various aspects of our plots including:\n",
    "   - Figure size\n",
    "   - Line styles and colors\n",
    "   - Markers\n",
    "   - Labels and annotations\n",
    "   - Grid lines\n",
    "4. Plots can be displayed inline in notebooks and saved to files"
   ]
  }
 ],
 "metadata": {
  "kernelspec": {
   "display_name": "Python 3",
   "language": "python",
   "name": "python3"
  },
  "language_info": {
   "codemirror_mode": {
    "name": "ipython",
    "version": 3
   },
   "file_extension": ".py",
   "mimetype": "text/x-python",
   "name": "python",
   "nbconvert_exporter": "python",
   "pygments_lexer": "ipython3",
   "version": "3.8.0"
  }
 },
 "nbformat": 4,
 "nbformat_minor": 4
}
